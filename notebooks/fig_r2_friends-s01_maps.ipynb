{
 "cells": [
  {
   "cell_type": "code",
   "execution_count": 5,
   "metadata": {},
   "outputs": [],
   "source": [
    "import os\n",
    "import matplotlib.pyplot as plt\n",
    "import pandas as pd\n",
    "import seaborn as sns\n",
    "from r2_summary import _r2_intra, _r2_inter, _r2_other"
   ]
  },
  {
   "cell_type": "markdown",
   "metadata": {},
   "source": [
    "# intra subject"
   ]
  },
  {
   "cell_type": "markdown",
   "metadata": {},
   "source": [
    "## Training set - interactive viewer "
   ]
  },
  {
   "cell_type": "code",
   "execution_count": 1,
   "metadata": {},
   "outputs": [
    {
     "ename": "NameError",
     "evalue": "name 'load_r2_intra' is not defined",
     "output_type": "error",
     "traceback": [
      "\u001b[0;31m---------------------------------------------------------------------------\u001b[0m",
      "\u001b[0;31mNameError\u001b[0m                                 Traceback (most recent call last)",
      "\u001b[0;32m<ipython-input-1-9588f61489bd>\u001b[0m in \u001b[0;36m<module>\u001b[0;34m\u001b[0m\n\u001b[0;32m----> 1\u001b[0;31m \u001b[0mhdf5_file\u001b[0m \u001b[0;34m=\u001b[0m \u001b[0mload_r2_intra\u001b[0m\u001b[0;34m(\u001b[0m\u001b[0msubject\u001b[0m\u001b[0;34m=\u001b[0m\u001b[0msubject\u001b[0m\u001b[0;34m,\u001b[0m \u001b[0mroot_data\u001b[0m\u001b[0;34m=\u001b[0m\u001b[0mroot_data\u001b[0m\u001b[0;34m,\u001b[0m \u001b[0mfwhm\u001b[0m\u001b[0;34m=\u001b[0m\u001b[0mfwhm\u001b[0m\u001b[0;34m,\u001b[0m \u001b[0mcluster\u001b[0m\u001b[0;34m=\u001b[0m\u001b[0mcluster\u001b[0m\u001b[0;34m,\u001b[0m \u001b[0mstate\u001b[0m\u001b[0;34m=\u001b[0m\u001b[0mstate\u001b[0m\u001b[0;34m)\u001b[0m\u001b[0;34m\u001b[0m\u001b[0;34m\u001b[0m\u001b[0m\n\u001b[0m\u001b[1;32m      2\u001b[0m \u001b[0mr2_training\u001b[0m \u001b[0;34m=\u001b[0m \u001b[0mmean_r2\u001b[0m\u001b[0;34m(\u001b[0m\u001b[0mhdf5_file\u001b[0m\u001b[0;34m[\u001b[0m\u001b[0;34m'training'\u001b[0m\u001b[0;34m]\u001b[0m\u001b[0;34m,\u001b[0m \u001b[0mref_img\u001b[0m\u001b[0;34m=\u001b[0m\u001b[0mmask_img\u001b[0m\u001b[0;34m)\u001b[0m\u001b[0;34m\u001b[0m\u001b[0;34m\u001b[0m\u001b[0m\n\u001b[1;32m      3\u001b[0m \u001b[0mplotting\u001b[0m\u001b[0;34m.\u001b[0m\u001b[0mview_img\u001b[0m\u001b[0;34m(\u001b[0m\u001b[0mr2_training\u001b[0m\u001b[0;34m,\u001b[0m \u001b[0mthreshold\u001b[0m\u001b[0;34m=\u001b[0m\u001b[0;36m0.1\u001b[0m\u001b[0;34m,\u001b[0m \u001b[0mvmax\u001b[0m\u001b[0;34m=\u001b[0m\u001b[0;36m1\u001b[0m\u001b[0;34m)\u001b[0m\u001b[0;34m\u001b[0m\u001b[0;34m\u001b[0m\u001b[0m\n",
      "\u001b[0;31mNameError\u001b[0m: name 'load_r2_intra' is not defined"
     ]
    }
   ],
   "source": [
    "hdf5_file = load_r2_intra(subject=subject, root_data=root_data, fwhm=fwhm, cluster=cluster, state=state)\n",
    "r2_training = mean_r2(hdf5_file['training'], ref_img=mask_img)\n",
    "plotting.view_img(r2_training, threshold=0.1, vmax=1)"
   ]
  },
  {
   "cell_type": "markdown",
   "metadata": {},
   "source": [
    "## Training set - static viewer (all subjects)"
   ]
  },
  {
   "cell_type": "code",
   "execution_count": null,
   "metadata": {},
   "outputs": [],
   "source": [
    "n_comp = 6\n",
    "width_fig = 10\n",
    "fig = plt.figure(figsize=(width_fig, n_comp*3))\n",
    "for ind_subject in range(1,7):\n",
    "    subject = f'sub-0{ind_subject}'\n",
    "    print(subject)\n",
    "    hdf5_file = load_r2_intra(subject=subject, root_data=root_data, fwhm=fwhm, cluster=cluster, state=state)\n",
    "    r2_training = mean_r2(hdf5_file['training'], ref_img=mask_img)\n",
    "    plotting.plot_stat_map(r2_training, cut_coords=[2, -30, 15], display_mode='ortho', \n",
    "        axes=plt.subplot(n_comp, 1, ind_subject), threshold=0.1, vmax=1, title=subject, colorbar=False)"
   ]
  },
  {
   "cell_type": "markdown",
   "metadata": {},
   "source": [
    "## Validation set - interactive viewer"
   ]
  },
  {
   "cell_type": "code",
   "execution_count": null,
   "metadata": {},
   "outputs": [],
   "source": [
    "hdf5_file = load_r2_intra(subject=subject, root_data=root_data, fwhm=fwhm, cluster=cluster, state=state)\n",
    "r2_training = mean_r2(hdf5_file['validation'], ref_img=mask_img)\n",
    "plotting.view_img(r2_training, threshold=0.1, vmax=1)"
   ]
  },
  {
   "cell_type": "code",
   "execution_count": null,
   "metadata": {},
   "outputs": [],
   "source": [
    "n_comp = 6\n",
    "width_fig = 10\n",
    "fig = plt.figure(figsize=(width_fig, n_comp*3))\n",
    "for ind_subject in range(1,7):\n",
    "    subject = f'sub-0{ind_subject}'\n",
    "    print(subject)\n",
    "    hdf5_file = load_r2_intra(subject=subject, root_data=root_data, fwhm=fwhm, cluster=cluster, state=state)\n",
    "    r2_training = mean_r2(hdf5_file['validation'], ref_img=mask_img)\n",
    "    plotting.plot_stat_map(r2_training, cut_coords=[2, -30, 15], display_mode='ortho', \n",
    "        axes=plt.subplot(n_comp, 1, ind_subject), threshold=0.1, vmax=1, title=subject, colorbar=False)"
   ]
  },
  {
   "cell_type": "markdown",
   "metadata": {},
   "source": [
    "# Inter-subject"
   ]
  },
  {
   "cell_type": "markdown",
   "metadata": {},
   "source": [
    "## interactive viewer"
   ]
  },
  {
   "cell_type": "code",
   "execution_count": null,
   "metadata": {},
   "outputs": [],
   "source": [
    "hdf5_file = load_r2_inter(subject=subject, root_data=root_data, fwhm=fwhm, cluster=cluster, state=state)\n",
    "r2_inter = mean_inter_r2(hdf5_file['inter'], ref_img=mask_img)\n",
    "plotting.view_img(r2_inter, threshold=0.1, vmax=1)"
   ]
  },
  {
   "cell_type": "markdown",
   "metadata": {},
   "source": [
    "## static viewer (all subjects)"
   ]
  },
  {
   "cell_type": "code",
   "execution_count": null,
   "metadata": {},
   "outputs": [],
   "source": [
    "n_comp = 6\n",
    "width_fig = 10\n",
    "fig = plt.figure(figsize=(width_fig, n_comp*3))\n",
    "for ind_subject in range(1,7):\n",
    "    subject = f'sub-0{ind_subject}'\n",
    "    print(subject)\n",
    "    hdf5_file = load_r2_inter(subject=subject, root_data=root_data, fwhm=fwhm, cluster=cluster, state=state)\n",
    "    r2_inter = mean_inter_r2(hdf5_file['inter'], ref_img=mask_img)\n",
    "    plotting.plot_stat_map(r2_inter, cut_coords=[2, -30, 15], display_mode='ortho', \n",
    "        axes=plt.subplot(n_comp, 1, ind_subject), threshold=0.1, vmax=1, title=subject, colorbar=False)"
   ]
  },
  {
   "cell_type": "markdown",
   "metadata": {},
   "source": [
    "# Group atlases"
   ]
  },
  {
   "cell_type": "markdown",
   "metadata": {},
   "source": [
    "## Schaefer"
   ]
  },
  {
   "cell_type": "code",
   "execution_count": null,
   "metadata": {},
   "outputs": [],
   "source": [
    "#list_atlas = ['mist197', 'mist444', 'schaefer', 'smith']\n",
    "atlas = 'schaefer'\n",
    "n_comp = 6\n",
    "width_fig = 10\n",
    "fig = plt.figure(figsize=(width_fig, n_comp*3))\n",
    "for ind_subject in range(1,7):\n",
    "    subject = f'sub-0{ind_subject}'\n",
    "    print(subject)\n",
    "    hdf5_file = load_r2_other(atlas=atlas, root_data=root_data, fwhm=fwhm)\n",
    "    r2_inter = mean_inter_r2(hdf5_file, ref_img=mask_img)\n",
    "    plotting.plot_stat_map(r2_inter, cut_coords=[2, -30, 15], display_mode='ortho', \n",
    "        axes=plt.subplot(n_comp, 1, ind_subject), threshold=0.1, vmax=1, title=subject, \n",
    "        colorbar=False)"
   ]
  },
  {
   "cell_type": "markdown",
   "metadata": {},
   "source": [
    "## MIST444"
   ]
  },
  {
   "cell_type": "code",
   "execution_count": null,
   "metadata": {},
   "outputs": [],
   "source": [
    "#list_atlas = ['mist197', 'mist444', 'schaefer', 'smith']\n",
    "atlas = 'mist444'\n",
    "n_comp = 6\n",
    "width_fig = 10\n",
    "fig = plt.figure(figsize=(width_fig, n_comp*3))\n",
    "for ind_subject in range(1,7):\n",
    "    subject = f'sub-0{ind_subject}'\n",
    "    print(subject)\n",
    "    hdf5_file = load_r2_other(atlas=atlas, root_data=root_data, fwhm=fwhm)\n",
    "    r2_inter = mean_inter_r2(hdf5_file, ref_img=mask_img)\n",
    "    plotting.plot_stat_map(r2_inter, cut_coords=[2, -30, 15], display_mode='ortho', \n",
    "        axes=plt.subplot(n_comp, 1, ind_subject), threshold=0.1, vmax=1, title=subject, \n",
    "        colorbar=False)"
   ]
  },
  {
   "cell_type": "markdown",
   "metadata": {},
   "source": [
    "# MIST197"
   ]
  },
  {
   "cell_type": "code",
   "execution_count": null,
   "metadata": {},
   "outputs": [],
   "source": [
    "#list_atlas = ['mist197', 'mist444', 'schaefer', 'smith']\n",
    "atlas = 'mist197'\n",
    "n_comp = 6\n",
    "width_fig = 10\n",
    "fig = plt.figure(figsize=(width_fig, n_comp*3))\n",
    "for ind_subject in range(1,7):\n",
    "    subject = f'sub-0{ind_subject}'\n",
    "    print(subject)\n",
    "    hdf5_file = load_r2_other(atlas=atlas, root_data=root_data, fwhm=fwhm)\n",
    "    r2_inter = mean_inter_r2(hdf5_file, ref_img=mask_img)\n",
    "    plotting.plot_stat_map(r2_inter, cut_coords=[2, -30, 15], display_mode='ortho', \n",
    "        axes=plt.subplot(n_comp, 1, ind_subject), threshold=0.1, vmax=1, title=subject, \n",
    "        colorbar=False)"
   ]
  },
  {
   "cell_type": "markdown",
   "metadata": {},
   "source": [
    "# Smith"
   ]
  },
  {
   "cell_type": "code",
   "execution_count": null,
   "metadata": {},
   "outputs": [],
   "source": [
    "#list_atlas = ['mist197', 'mist444', 'schaefer', 'smith']\n",
    "atlas = 'smith'\n",
    "n_comp = 6\n",
    "width_fig = 10\n",
    "fig = plt.figure(figsize=(width_fig, n_comp*3))\n",
    "for ind_subject in range(1,7):\n",
    "    subject = f'sub-0{ind_subject}'\n",
    "    print(subject)\n",
    "    hdf5_file = load_r2_other(atlas=atlas, root_data=root_data, fwhm=fwhm)\n",
    "    r2_inter = mean_inter_r2(hdf5_file, ref_img=mask_img)\n",
    "    plotting.plot_stat_map(r2_inter, cut_coords=[2, -30, 15], display_mode='ortho', \n",
    "        axes=plt.subplot(n_comp, 1, ind_subject), threshold=0.1, vmax=1, title=subject, \n",
    "        colorbar=False)"
   ]
  },
  {
   "cell_type": "markdown",
   "metadata": {},
   "source": [
    "# DIFUMO 1024 fwhm-5"
   ]
  },
  {
   "cell_type": "code",
   "execution_count": null,
   "metadata": {},
   "outputs": [],
   "source": [
    "#list_atlas = ['mist197', 'mist444', 'schaefer', 'smith']\n",
    "atlas = 'difumo1024'\n",
    "n_comp = 6\n",
    "width_fig = 10\n",
    "fig = plt.figure(figsize=(width_fig, n_comp*3))\n",
    "for ind_subject in range(1,7):\n",
    "    subject = f'sub-0{ind_subject}'\n",
    "    print(subject)\n",
    "    hdf5_file = load_r2_other(atlas=atlas, root_data=root_data, fwhm=fwhm)\n",
    "    r2_inter = mean_inter_r2(hdf5_file, ref_img=mask_img)\n",
    "    plotting.plot_stat_map(r2_inter, cut_coords=[2, -30, 15], display_mode='ortho', \n",
    "        axes=plt.subplot(n_comp, 1, ind_subject), threshold=0.1, vmax=1, title=subject, \n",
    "        colorbar=False)"
   ]
  },
  {
   "cell_type": "markdown",
   "metadata": {},
   "source": [
    "# DIFUMO 512 fwhm-5"
   ]
  },
  {
   "cell_type": "code",
   "execution_count": null,
   "metadata": {},
   "outputs": [],
   "source": [
    "#list_atlas = ['mist197', 'mist444', 'schaefer', 'smith']\n",
    "atlas = 'difumo512'\n",
    "n_comp = 6\n",
    "width_fig = 10\n",
    "fig = plt.figure(figsize=(width_fig, n_comp*3))\n",
    "hdf5_file = load_r2_other(atlas=atlas, root_data=root_data, fwhm=fwhm)\n",
    "for ind_subject in range(1,7):\n",
    "    subject = f'sub-0{ind_subject}'\n",
    "    print(subject)\n",
    "    r2_inter = mean_r2(hdf5_file[subject], ref_img=mask_img)\n",
    "    plotting.plot_stat_map(r2_inter, cut_coords=[2, -30, 15], display_mode='ortho', \n",
    "        axes=plt.subplot(n_comp, 1, ind_subject), threshold=0.1, vmax=1, title=subject, \n",
    "        colorbar=False)"
   ]
  }
 ],
 "metadata": {
  "kernelspec": {
   "display_name": "Python 3",
   "language": "python",
   "name": "python3"
  },
  "language_info": {
   "codemirror_mode": {
    "name": "ipython",
    "version": 3
   },
   "file_extension": ".py",
   "mimetype": "text/x-python",
   "name": "python",
   "nbconvert_exporter": "python",
   "pygments_lexer": "ipython3",
   "version": "3.6.9"
  }
 },
 "nbformat": 4,
 "nbformat_minor": 4
}

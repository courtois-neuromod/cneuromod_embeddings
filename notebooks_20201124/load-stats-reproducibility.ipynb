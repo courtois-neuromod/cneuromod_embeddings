{
 "cells": [
  {
   "cell_type": "code",
   "execution_count": null,
   "metadata": {},
   "outputs": [],
   "source": [
    "import os\n",
    "import pandas as pd\n",
    "import numpy as np\n",
    "import seaborn as sns\n",
    "import h5py\n",
    "import matplotlib.pyplot as plt\n",
    "from dynpar import evaluate\n",
    "\n",
    "import warnings\n",
    "warnings.filterwarnings(\"ignore\", category=h5py.h5py_warnings.H5pyDeprecationWarning)"
   ]
  },
  {
   "cell_type": "code",
   "execution_count": null,
   "metadata": {},
   "outputs": [],
   "source": [
    "list_subject = ['sub-01','sub-02', 'sub-03', 'sub-04', 'sub-05', 'sub-06']\n",
    "\n",
    "list_clusters = [20, 50]\n",
    "list_states = [150, 300]\n",
    "list_fwhm = [8]"
   ]
  },
  {
   "cell_type": "code",
   "execution_count": null,
   "metadata": {},
   "outputs": [],
   "source": [
    "main_path = 'path to your hdf5 files'\n",
    "output_folder = os.path.join(main_path, 'stats')"
   ]
  },
  {
   "cell_type": "code",
   "execution_count": null,
   "metadata": {},
   "outputs": [],
   "source": [
    "all_reproducibility_df = pd.DataFrame()"
   ]
  },
  {
   "cell_type": "code",
   "execution_count": null,
   "metadata": {},
   "outputs": [],
   "source": [
    "for subject in list_subject:\n",
    "    \n",
    "    for fwhm in list_fwhm:\n",
    "        \n",
    "        for cluster in list_clusters:\n",
    "\n",
    "            for states in list_states:\n",
    "                \n",
    "                print('subject', subject)\n",
    "                print('fwhm', fwhm)\n",
    "                print('cluster', cluster)\n",
    "                print('states', states)\n",
    "    \n",
    "                try:\n",
    "            \n",
    "                    out_filename_within = os.path.join(main_path, 'within-subject-reproducibility', 'within-'+subject+'-reproducibility-fwhm-'+str(fwhm)+'.h5')\n",
    "\n",
    "                    h5_data = h5py.File(out_filename_within, 'a')\n",
    "\n",
    "                    reproducibility_scores = h5_data[str(subject)][str(fwhm)][str(cluster)][str(states)]['States-reproducibility'][:]\n",
    "\n",
    "                    print(reproducibility_scores)\n",
    "\n",
    "                    w_sub_rep = reproducibility_scores[reproducibility_scores != 0]\n",
    "\n",
    "                    data = {'Pearson correlation' : w_sub_rep,  \n",
    "                            'Subject': np.repeat(subject, len(w_sub_rep)),\n",
    "                            'Reproducibility level': 'Within-subjects', \n",
    "                            'Fwhm-clusters-states': np.repeat('F:'+str(fwhm)+'-C:'+str(cluster)+'-S:'+str(states), len(w_sub_rep)),\n",
    "                            }\n",
    "\n",
    "                    all_reproducibility_df = pd.concat([all_reproducibility_df, pd.DataFrame(data=data)])    \n",
    "                except:\n",
    "                    continue"
   ]
  },
  {
   "cell_type": "code",
   "execution_count": null,
   "metadata": {},
   "outputs": [],
   "source": [
    "for idx1 in range(len(list_subject)):\n",
    "    \n",
    "    subject1 = list_subject[idx1]\n",
    "    \n",
    "    for idx2 in range(idx1+1, len(list_subject)):\n",
    "    \n",
    "        for fwhm in list_fwhm:\n",
    "\n",
    "            for cluster in list_clusters:\n",
    "\n",
    "                for states in list_states:\n",
    "\n",
    "                    try:\n",
    "                        subject2 = list_subject[idx2]\n",
    "                 \n",
    "                        out_filename_between = os.path.join(main_path, 'between-subjects-reproducibility', 'between-subjects-'+subject1+'-'+subject2+'-reproducibility-fwhm'+str(fwhm)+'.h5')\n",
    "\n",
    "                        print(out_filename_between)\n",
    "                        \n",
    "                        h5_data = h5py.File(out_filename_between, 'a')\n",
    "                        \n",
    "                        print(list(h5_data.keys()))\n",
    "\n",
    "                        reproducibility_scores = h5_data[subject1+'-'+subject2][str(fwhm)][str(cluster)][str(states)]['States-reproducibility'][:]\n",
    "\n",
    "                        w_sub_rep = reproducibility_scores[reproducibility_scores != 0]\n",
    "\n",
    "                        data = {'Pearson correlation' : w_sub_rep,  \n",
    "                                'Subjects': np.repeat(subject1+'-'+subject2, len(w_sub_rep)),\n",
    "                                'Reproducibility level': 'Between-subjects',\n",
    "                                'Fwhm-clusters-states': np.repeat('F:'+str(fwhm)+'-C:'+str(cluster)+'-S:'+str(states), len(w_sub_rep)),\n",
    "                                }\n",
    "\n",
    "                        all_reproducibility_df = pd.concat([all_reproducibility_df, pd.DataFrame(data=data)])    \n",
    "                    except:\n",
    "                        continue"
   ]
  },
  {
   "cell_type": "code",
   "execution_count": null,
   "metadata": {},
   "outputs": [],
   "source": [
    "all_reproducibility_df"
   ]
  },
  {
   "cell_type": "code",
   "execution_count": null,
   "metadata": {},
   "outputs": [],
   "source": [
    "ymin = -0.2\n",
    "ymax = 1.1\n",
    "\n",
    "figure, ax = plt.subplots(1, 1,figsize=(10,7))\n",
    "\n",
    "plt.rcParams.update({'font.size': 13})\n",
    "\n",
    "\n",
    "ax.set_ylim(ymin, ymax) \n",
    "ax.set_ylim(ymin, ymax) \n"
   ]
  },
  {
   "cell_type": "code",
   "execution_count": null,
   "metadata": {},
   "outputs": [],
   "source": [
    "tab10 = \"tab10\"\n",
    "\n",
    "m = plt.cm.get_cmap(tab10)\n",
    "\n",
    "\n",
    "sns.swarmplot(x='Reproducibility level', y='Pearson correlation', hue='Fwhm-clusters-states',\n",
    "                   dodge=True, data=all_reproducibility_df, alpha=0.5, ax=ax)\n",
    "\n",
    "sns.boxplot(x='Reproducibility level', y='Pearson correlation', data=all_reproducibility_df, hue='Fwhm-clusters-states',\n",
    "                dodge=True, showfliers = False, boxprops=dict(alpha=0.3),\n",
    "                 showmeans=True, ax=ax)"
   ]
  },
  {
   "cell_type": "code",
   "execution_count": null,
   "metadata": {},
   "outputs": [],
   "source": [
    "figure"
   ]
  },
  {
   "cell_type": "code",
   "execution_count": null,
   "metadata": {},
   "outputs": [],
   "source": [
    "\n",
    "filename_figure = os.path.join(main_path, 'plots','spatial-reproducibility.png')\n",
    "figure.savefig(filename_figure)\n",
    "plt.show()"
   ]
  },
  {
   "cell_type": "code",
   "execution_count": null,
   "metadata": {},
   "outputs": [],
   "source": []
  }
 ],
 "metadata": {
  "kernelspec": {
   "display_name": "Python 3",
   "language": "python",
   "name": "python3"
  },
  "language_info": {
   "codemirror_mode": {
    "name": "ipython",
    "version": 3
   },
   "file_extension": ".py",
   "mimetype": "text/x-python",
   "name": "python",
   "nbconvert_exporter": "python",
   "pygments_lexer": "ipython3",
   "version": "3.7.4"
  }
 },
 "nbformat": 4,
 "nbformat_minor": 4
}

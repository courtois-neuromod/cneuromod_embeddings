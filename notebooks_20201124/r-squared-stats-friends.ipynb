{
 "cells": [
  {
   "cell_type": "markdown",
   "metadata": {},
   "source": [
    "# Compute within-subjects average maps"
   ]
  },
  {
   "cell_type": "code",
   "execution_count": null,
   "metadata": {},
   "outputs": [],
   "source": [
    "import os\n",
    "import gc\n",
    "import glob\n",
    "import h5py\n",
    "import ntpath\n",
    "import seaborn as sns\n",
    "import pandas as pd\n",
    "import nibabel as nb\n",
    "import numpy as np\n",
    "import matplotlib.pyplot as plt\n",
    "from nilearn import plotting\n",
    "from nilearn.masking import unmask"
   ]
  },
  {
   "cell_type": "code",
   "execution_count": null,
   "metadata": {},
   "outputs": [],
   "source": [
    "list_movie = ['friends']\n",
    "list_subject = ['sub-01', 'sub-02', 'sub-03', 'sub-04', 'sub-05', 'sub-06']"
   ]
  },
  {
   "cell_type": "code",
   "execution_count": null,
   "metadata": {},
   "outputs": [],
   "source": [
    "bg_path = 'path to the mask'\n",
    "main_path = 'path to hdf5 files'\n",
    "output_folder = 'path to R2 maps in hdf5 files'"
   ]
  },
  {
   "cell_type": "code",
   "execution_count": null,
   "metadata": {},
   "outputs": [],
   "source": [
    "def keys(f):\n",
    "    return [key for key in f.keys()]"
   ]
  },
  {
   "cell_type": "markdown",
   "metadata": {},
   "source": [
    "# WITHIN-SUBJECT ANALYSIS"
   ]
  },
  {
   "cell_type": "markdown",
   "metadata": {},
   "source": []
  },
  {
   "cell_type": "code",
   "execution_count": null,
   "metadata": {},
   "outputs": [],
   "source": [
    "scores_df = pd.DataFrame()\n",
    "\n",
    "for movie in list_movie:\n",
    "    \n",
    "    for sub in list_subject:\n",
    "\n",
    "        ###  Load mask for each subject\n",
    "        bg_img_path = os.path.join(bg_path, sub + '_space-MNI152NLin2009cAsym_desc-preproc_T1w.nii.gz')\n",
    "\n",
    "        list_r2_files_subject = glob.glob(main_path + sub + '_*even*fwhm-5_r2_scores.hdf5', recursive=True)\n",
    "\n",
    "        # you can add a loop and ass variables for clusters and states and fwhm \n",
    "        path_filename = os.path.join(main_path, sub + '_dataset-friends_tasks-s01even_cluster-20_states-120_batches-1_reps-100_fwhm-5_r2_scores.hdf5')\n",
    "\n",
    "        f = h5py.File(path_filename, 'r')\n",
    "        \n",
    "        filenames_list_training = keys(f['training'])\n",
    "        filenames_list_validation = keys(f['validation'])\n",
    "\n",
    "        # mean R2 across runs \n",
    "        data_r2_avg_runs = []\n",
    "\n",
    "        # Training\n",
    "        for  key in filenames_list_training:\n",
    "            \n",
    "            r2_map = f['training'][key] \n",
    "            \n",
    "            r2_map_np = r2_map[()]\n",
    "     \n",
    "            non_zeros_idx = np.where(r2_map_np > 0) \n",
    "            \n",
    "            avg = np.mean(r2_map_np[non_zeros_idx])\n",
    "            \n",
    "            data_r2_avg_runs.append(avg)\n",
    "\n",
    "        # Validation\n",
    "        for  key in filenames_list_validation:\n",
    "            \n",
    "            r2_map = f['validation'][key] \n",
    "            \n",
    "            r2_map_np = r2_map[()]\n",
    "     \n",
    "            non_zeros_idx = np.where(r2_map_np > 0) \n",
    "            \n",
    "            avg = np.mean(r2_map_np[non_zeros_idx])\n",
    "            \n",
    "            data_r2_avg_runs.append(avg)\n",
    "            \n",
    "        data = {'Average R-squared score' : data_r2_avg_runs, \n",
    "                'Level': np.repeat('Within-subjects', len(data_r2_avg_runs)),\n",
    "                'Movie': np.repeat(movie, len(data_r2_avg_runs)),\n",
    "                'Subject': np.repeat(sub, len(data_r2_avg_runs))\n",
    "                }\n",
    "\n",
    "        scores_df = pd.concat([scores_df, pd.DataFrame(data=data)]) "
   ]
  },
  {
   "cell_type": "code",
   "execution_count": null,
   "metadata": {},
   "outputs": [],
   "source": [
    "scores_df"
   ]
  },
  {
   "cell_type": "markdown",
   "metadata": {},
   "source": [
    "scores_df"
   ]
  },
  {
   "cell_type": "code",
   "execution_count": null,
   "metadata": {},
   "outputs": [],
   "source": [
    "scores_df.shape"
   ]
  },
  {
   "cell_type": "markdown",
   "metadata": {},
   "source": []
  },
  {
   "cell_type": "code",
   "execution_count": null,
   "metadata": {},
   "outputs": [],
   "source": [
    "scores_df.shape"
   ]
  },
  {
   "cell_type": "code",
   "execution_count": null,
   "metadata": {},
   "outputs": [],
   "source": [
    "ymin = 0.3\n",
    "ymax = 0.9\n",
    "figure, ax = plt.subplots(1, 1,figsize=(10,7))\n",
    "\n",
    "plt.rcParams.update({'font.size': 13})\n",
    "\n",
    "#sns.set(style=\"whitegrid\")\n",
    "\n",
    "ax.set_ylim(ymin, ymax) \n",
    "ax.set_ylim(ymin, ymax) \n",
    "\n",
    "#figure.subplots_adjust(hspace=0.2, wspace=0.2)"
   ]
  },
  {
   "cell_type": "code",
   "execution_count": null,
   "metadata": {},
   "outputs": [],
   "source": [
    "tab10 = \"tab10\"\n",
    "\n",
    "m = plt.cm.get_cmap(tab10)\n",
    "\n",
    "\n",
    "sns.swarmplot(x='Level', y='Average R-squared score', \n",
    "                   dodge=True, data=scores_df, alpha=0.5, ax=ax)\n",
    "\n",
    "sns.boxplot(x='Level', y='Average R-squared score', data=scores_df, \n",
    "                dodge=True, showfliers = False, boxprops=dict(alpha=0.3),\n",
    "                 showmeans=True, ax=ax)\n"
   ]
  },
  {
   "cell_type": "code",
   "execution_count": null,
   "metadata": {},
   "outputs": [],
   "source": [
    "figure"
   ]
  },
  {
   "cell_type": "code",
   "execution_count": null,
   "metadata": {},
   "outputs": [],
   "source": [
    "filename_figure = os.path.join(output_folder, 'figs','average-r-2-squared-scores-all-movies.png')\n",
    "figure.savefig(filename_figure)\n",
    "plt.show()"
   ]
  },
  {
   "cell_type": "markdown",
   "metadata": {},
   "source": [
    "# Visualize average maps"
   ]
  },
  {
   "cell_type": "markdown",
   "metadata": {},
   "source": [
    "## Within subject"
   ]
  },
  {
   "cell_type": "code",
   "execution_count": null,
   "metadata": {},
   "outputs": [],
   "source": [
    " nii_output_filename = os.path.join(output_folder, 'between', sub_ts + '-average-map-r2-'+movie+'-embedding-'+sub_eb+'.nii')\n",
    "            nb.save(avg_map, nii_output_filename)"
   ]
  },
  {
   "cell_type": "code",
   "execution_count": null,
   "metadata": {},
   "outputs": [],
   "source": [
    "plotting.view_img(avg_map,vmax=1,bg_img=bg_img)"
   ]
  },
  {
   "cell_type": "code",
   "execution_count": null,
   "metadata": {},
   "outputs": [],
   "source": []
  },
  {
   "cell_type": "code",
   "execution_count": null,
   "metadata": {},
   "outputs": [],
   "source": []
  }
 ],
 "metadata": {
  "kernelspec": {
   "display_name": "Python 3",
   "language": "python",
   "name": "python3"
  },
  "language_info": {
   "codemirror_mode": {
    "name": "ipython",
    "version": 3
   },
   "file_extension": ".py",
   "mimetype": "text/x-python",
   "name": "python",
   "nbconvert_exporter": "python",
   "pygments_lexer": "ipython3",
   "version": "3.7.4"
  }
 },
 "nbformat": 4,
 "nbformat_minor": 4
}
